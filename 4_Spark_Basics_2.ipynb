{
  "nbformat": 4,
  "nbformat_minor": 0,
  "metadata": {
    "anaconda-cloud": {},
    "celltoolbar": "Slideshow",
    "hide_input": false,
    "kernelspec": {
      "display_name": "Python 3",
      "language": "python",
      "name": "python3"
    },
    "language_info": {
      "codemirror_mode": {
        "name": "ipython",
        "version": 3
      },
      "file_extension": ".py",
      "mimetype": "text/x-python",
      "name": "python",
      "nbconvert_exporter": "python",
      "pygments_lexer": "ipython3",
      "version": "3.6.3"
    },
    "toc": {
      "base_numbering": 1,
      "nav_menu": {},
      "number_sections": true,
      "sideBar": true,
      "skip_h1_title": false,
      "title_cell": "Table of Contents",
      "title_sidebar": "Contents",
      "toc_cell": false,
      "toc_position": {},
      "toc_section_display": "block",
      "toc_window_display": false
    },
    "varInspector": {
      "cols": {
        "lenName": 16,
        "lenType": 16,
        "lenVar": 40
      },
      "kernels_config": {
        "python": {
          "delete_cmd_postfix": "",
          "delete_cmd_prefix": "del ",
          "library": "var_list.py",
          "varRefreshCmd": "print(var_dic_list())"
        },
        "r": {
          "delete_cmd_postfix": ") ",
          "delete_cmd_prefix": "rm(",
          "library": "var_list.r",
          "varRefreshCmd": "cat(var_dic_list()) "
        }
      },
      "types_to_exclude": [
        "module",
        "function",
        "builtin_function_or_method",
        "instance",
        "_Feature"
      ],
      "window_display": false
    },
    "colab": {
      "name": "4 Spark Basics 2.ipynb",
      "provenance": [],
      "collapsed_sections": [],
      "include_colab_link": true
    }
  },
  "cells": [
    {
      "cell_type": "markdown",
      "metadata": {
        "id": "view-in-github",
        "colab_type": "text"
      },
      "source": [
        "<a href=\"https://colab.research.google.com/github/gmelaku/CIS-Assignments/blob/master/4_Spark_Basics_2.ipynb\" target=\"_parent\"><img src=\"https://colab.research.google.com/assets/colab-badge.svg\" alt=\"Open In Colab\"/></a>"
      ]
    },
    {
      "cell_type": "markdown",
      "metadata": {
        "id": "Zkbm2mR0Tv0d",
        "colab_type": "text"
      },
      "source": [
        "# Spark Basics 2"
      ]
    },
    {
      "cell_type": "markdown",
      "metadata": {
        "id": "0-POjUjSTv0e",
        "colab_type": "text"
      },
      "source": [
        "## Chaining"
      ]
    },
    {
      "cell_type": "markdown",
      "metadata": {
        "id": "ZvZqg7PATv0f",
        "colab_type": "text"
      },
      "source": [
        "We can **chain** transformations and action to create a computation **pipeline**"
      ]
    },
    {
      "cell_type": "markdown",
      "metadata": {
        "id": "svg3HpSoTv0g",
        "colab_type": "text"
      },
      "source": [
        "Suppose we want to compute the sum of the squares\n",
        "$$ \\sum_{i=1}^n x_i^2 $$\n",
        "where the elements $x_i$ are stored in an RDD."
      ]
    },
    {
      "cell_type": "code",
      "metadata": {
        "id": "Ia3xZgQ0Tv0h",
        "colab_type": "code",
        "colab": {}
      },
      "source": [
        "!apt-get install openjdk-8-jdk-headless -qq > /dev/null\n",
        "!wget -q https://www-us.apache.org/dist/spark/spark-2.4.5/spark-2.4.5-bin-hadoop2.7.tgz\n",
        "\n",
        "# !tar -xvf /content/spark-2.4.5-bin-hadoop2.7.tgz\n",
        "!tar -xvf  spark-2.4.5-bin-hadoop2.7.tgz\n",
        "!pip install -q findspark\n",
        "\n",
        "import os\n",
        "os.environ[\"JAVA_HOME\"] = \"/usr/lib/jvm/java-8-openjdk-amd64\"\n",
        "os.environ[\"SPARK_HOME\"] = \"/content/spark-2.4.5-bin-hadoop2.7\"\n",
        "\n",
        "import findspark\n",
        "findspark.init()\n",
        "\n",
        "# Create a blank SparkContext\n",
        "from pyspark import SparkContext\n",
        "sc = SparkContext()"
      ],
      "execution_count": 0,
      "outputs": []
    },
    {
      "cell_type": "markdown",
      "metadata": {
        "id": "pLoyJgxmTv0l",
        "colab_type": "text"
      },
      "source": [
        "### Create an RDD"
      ]
    },
    {
      "cell_type": "code",
      "metadata": {
        "id": "9oj2pFF_Tv0l",
        "colab_type": "code",
        "outputId": "13a2ba88-20b9-45a8-eac9-1808ad8480fd",
        "colab": {
          "base_uri": "https://localhost:8080/",
          "height": 34
        }
      },
      "source": [
        "B=sc.parallelize(range(4))\n",
        "B.collect()"
      ],
      "execution_count": 2,
      "outputs": [
        {
          "output_type": "execute_result",
          "data": {
            "text/plain": [
              "[0, 1, 2, 3]"
            ]
          },
          "metadata": {
            "tags": []
          },
          "execution_count": 2
        }
      ]
    },
    {
      "cell_type": "markdown",
      "metadata": {
        "id": "o3CkQLe7Tv0o",
        "colab_type": "text"
      },
      "source": [
        "### Sequential syntax for chaining\n",
        "Perform assignment after each computation"
      ]
    },
    {
      "cell_type": "code",
      "metadata": {
        "id": "Wi_CcoetTv0p",
        "colab_type": "code",
        "outputId": "b878691f-a1a8-4473-962f-444b8cd7c22b",
        "colab": {
          "base_uri": "https://localhost:8080/",
          "height": 34
        }
      },
      "source": [
        "Squares=B.map(lambda x:x*x)\n",
        "Squares.collect()"
      ],
      "execution_count": 4,
      "outputs": [
        {
          "output_type": "execute_result",
          "data": {
            "text/plain": [
              "[0, 1, 4, 9]"
            ]
          },
          "metadata": {
            "tags": []
          },
          "execution_count": 4
        }
      ]
    },
    {
      "cell_type": "code",
      "metadata": {
        "id": "w4Lhng9xU4Nj",
        "colab_type": "code",
        "colab": {
          "base_uri": "https://localhost:8080/",
          "height": 34
        },
        "outputId": "ba6ebc3d-ea28-4c48-9c95-46879e76c7fd"
      },
      "source": [
        "Squares.reduce(lambda x,y:x+y) "
      ],
      "execution_count": 5,
      "outputs": [
        {
          "output_type": "execute_result",
          "data": {
            "text/plain": [
              "14"
            ]
          },
          "metadata": {
            "tags": []
          },
          "execution_count": 5
        }
      ]
    },
    {
      "cell_type": "markdown",
      "metadata": {
        "id": "Xc3B3yq4Tv0s",
        "colab_type": "text"
      },
      "source": [
        "### Cascaded syntax for chaining\n",
        "Combine computations into a single cascaded command"
      ]
    },
    {
      "cell_type": "code",
      "metadata": {
        "id": "9FP62gY8Tv0t",
        "colab_type": "code",
        "outputId": "d7120a9c-125e-4a84-d1b0-e472e0a20f94",
        "colab": {
          "base_uri": "https://localhost:8080/",
          "height": 34
        }
      },
      "source": [
        "B.map(lambda x:x*x)\\\n",
        "   .reduce(lambda x,y:x+y)"
      ],
      "execution_count": 6,
      "outputs": [
        {
          "output_type": "execute_result",
          "data": {
            "text/plain": [
              "14"
            ]
          },
          "metadata": {
            "tags": []
          },
          "execution_count": 6
        }
      ]
    },
    {
      "cell_type": "markdown",
      "metadata": {
        "id": "G7O0Z4qkTv0x",
        "colab_type": "text"
      },
      "source": [
        "### Both syntaxes mean exactly the same thing\n",
        "The only difference:\n",
        "* In the sequential syntax the intermediate RDD has a name `Squares`\n",
        "* In the cascaded syntax the intermediate RDD is *anonymous*\n",
        "\n",
        "The execution is identical!"
      ]
    },
    {
      "cell_type": "markdown",
      "metadata": {
        "id": "XqeTEnrITv0x",
        "colab_type": "text"
      },
      "source": [
        "### Sequential execution\n",
        "The standard way that the map and reduce are executed is\n",
        "* perform the map\n",
        "* store the resulting RDD in memory\n",
        "* perform the reduce"
      ]
    },
    {
      "cell_type": "markdown",
      "metadata": {
        "id": "6SWvfIQhTv0y",
        "colab_type": "text"
      },
      "source": [
        "### Disadvantages of Sequential execution\n",
        "\n",
        "1. Intermediate result (`Squares`) requires memory space.\n",
        "2. Two scans of memory (of `B`, then of `Squares`) - double the cache-misses."
      ]
    },
    {
      "cell_type": "markdown",
      "metadata": {
        "id": "aLFfzQAGTv0z",
        "colab_type": "text"
      },
      "source": [
        "### Pipelined execution\n",
        "Perform the whole computation in a single pass. For each element of **`B`**\n",
        "1. Compute the square\n",
        "2. Enter the square as input to the `reduce` operation."
      ]
    },
    {
      "cell_type": "markdown",
      "metadata": {
        "id": "J7cl8E-bTv00",
        "colab_type": "text"
      },
      "source": [
        "### Advantages of Pipelined execution\n",
        "\n",
        "1. Less memory required - intermediate result is not stored.\n",
        "2. Faster - only one pass through the Input RDD."
      ]
    },
    {
      "cell_type": "markdown",
      "metadata": {
        "id": "gSzQ8ecbTv00",
        "colab_type": "text"
      },
      "source": [
        "### Lazy Evaluation\n",
        "This type of pipelined evaluation is related to **Lazy Evaluation**. The word **Lazy** is used because the first command (computing the square) is not executed immediately. Instead, the execution is delayed as long as possible so that several commands are executed in a single pass.\n",
        "\n",
        "The delayed commands are organized in an **Execution plan**"
      ]
    },
    {
      "cell_type": "markdown",
      "metadata": {
        "id": "cRlX2dVdTv01",
        "colab_type": "text"
      },
      "source": [
        "For more on Pipelined execution, Lazy evaluation and Execution Plans see [spark programming guide/RDD operations](http://spark.apache.org/docs/latest/rdd-programming-guide.html#rdd-operations)"
      ]
    },
    {
      "cell_type": "markdown",
      "metadata": {
        "id": "q_0WqeoaTv02",
        "colab_type": "text"
      },
      "source": [
        "### An instructive mistake\n",
        "Here is another way to compute the sum of the squares using a single reduce command. Can you figure out how it comes up with this unexpected result?"
      ]
    },
    {
      "cell_type": "code",
      "metadata": {
        "id": "jCQmVZa6Tv03",
        "colab_type": "code",
        "outputId": "6dd79a02-59fc-4ab2-a036-a47bd50fc782",
        "colab": {
          "base_uri": "https://localhost:8080/",
          "height": 34
        }
      },
      "source": [
        "C=sc.parallelize([1,1,2])\n",
        "C.reduce(lambda x,y: x*x+y*y)"
      ],
      "execution_count": 7,
      "outputs": [
        {
          "output_type": "execute_result",
          "data": {
            "text/plain": [
              "26"
            ]
          },
          "metadata": {
            "tags": []
          },
          "execution_count": 7
        }
      ]
    },
    {
      "cell_type": "code",
      "metadata": {
        "id": "mkSQ7fTAWhrW",
        "colab_type": "code",
        "colab": {
          "base_uri": "https://localhost:8080/",
          "height": 34
        },
        "outputId": "e7b7ad14-a6ac-406c-e3d2-49208037ed1e"
      },
      "source": [
        "C=sc.parallelize([1,1,2])\n",
        "C.collect()"
      ],
      "execution_count": 9,
      "outputs": [
        {
          "output_type": "execute_result",
          "data": {
            "text/plain": [
              "[1, 1, 2]"
            ]
          },
          "metadata": {
            "tags": []
          },
          "execution_count": 9
        }
      ]
    },
    {
      "cell_type": "markdown",
      "metadata": {
        "id": "prgkXi7cTv05",
        "colab_type": "text"
      },
      "source": [
        "#### Answer:\n",
        "1. `reduce` first operates on the pair $(1,1)$, replacing it with  $1^2+1^2 = 2$\n",
        "2. `reduce` then operates on the pair $(2,2)$, giving the final result $2^2+2^2=8$   "
      ]
    },
    {
      "cell_type": "markdown",
      "metadata": {
        "id": "eYcllgkXTv06",
        "colab_type": "text"
      },
      "source": [
        "## getting information about an RDD\n",
        "RDD's typically have hundreds of thousands of elements. It usually makes no sense to print out the content of a whole RDD. Here are some ways to get manageable amounts of information about an RDD"
      ]
    },
    {
      "cell_type": "markdown",
      "metadata": {
        "id": "klYmQGWfTv07",
        "colab_type": "text"
      },
      "source": [
        "Create an RDD of length **`n`** which is a repetition of the pattern `1,2,3,4`"
      ]
    },
    {
      "cell_type": "code",
      "metadata": {
        "scrolled": true,
        "id": "lO92b06HTv08",
        "colab_type": "code",
        "colab": {}
      },
      "source": [
        "n=1000000\n",
        "B=sc.parallelize([1,2,3,4]*int(n/4))\n"
      ],
      "execution_count": 0,
      "outputs": []
    },
    {
      "cell_type": "code",
      "metadata": {
        "id": "--i1cX3BTv0_",
        "colab_type": "code",
        "outputId": "d34f486f-80a4-4214-8dc2-f11c9226899e",
        "colab": {
          "base_uri": "https://localhost:8080/",
          "height": 34
        }
      },
      "source": [
        "#find the number of elements in the RDD\n",
        "B.count()"
      ],
      "execution_count": 13,
      "outputs": [
        {
          "output_type": "execute_result",
          "data": {
            "text/plain": [
              "1000000"
            ]
          },
          "metadata": {
            "tags": []
          },
          "execution_count": 13
        }
      ]
    },
    {
      "cell_type": "code",
      "metadata": {
        "id": "FgUsWy2LTv1B",
        "colab_type": "code",
        "outputId": "3386ba0e-ba98-4c71-b87c-cf89cb631509",
        "colab": {
          "base_uri": "https://localhost:8080/",
          "height": 51
        }
      },
      "source": [
        "# get the first few elements of an RDD\n",
        "print('first element=',B.first())\n",
        "print('first 5 elements = ',B.take(5))"
      ],
      "execution_count": 14,
      "outputs": [
        {
          "output_type": "stream",
          "text": [
            "first element= 1\n",
            "first 5 elements =  [1, 2, 3, 4, 1]\n"
          ],
          "name": "stdout"
        }
      ]
    },
    {
      "cell_type": "markdown",
      "metadata": {
        "id": "n_r0DpxeTv1D",
        "colab_type": "text"
      },
      "source": [
        "### Sampling an RDD\n",
        "* RDDs are often very large.\n",
        "* Aggregates, such as averages, can be approximated efficiently by using a sample.\n",
        "* Sampling is done in parallel and requires limited computation."
      ]
    },
    {
      "cell_type": "markdown",
      "metadata": {
        "id": "l4KECsmSTv1F",
        "colab_type": "text"
      },
      "source": [
        "The method `RDD.sample(withReplacement,p)` generates a sample of the elements of the RDD. where\n",
        "- `withReplacement` is a boolean flag indicating whether or not a an element in the RDD can be sampled more than once.\n",
        "- `p` is the probability of accepting each element into the sample. Note that as the sampling is performed independently in each partition, the number of elements in the sample changes from sample to sample."
      ]
    },
    {
      "cell_type": "code",
      "metadata": {
        "scrolled": true,
        "id": "Cw04GctJTv1G",
        "colab_type": "code",
        "outputId": "0d06de54-2734-4269-e891-5c077a83abc2",
        "colab": {
          "base_uri": "https://localhost:8080/",
          "height": 51
        }
      },
      "source": [
        "# get a sample whose expected size is m\n",
        "# Note that the size of the sample is different in different runs\n",
        "m=5.\n",
        "print('sample1=',B.sample(False,m/n).collect()) \n",
        "print('sample2=',B.sample(False,m/n).collect())"
      ],
      "execution_count": 17,
      "outputs": [
        {
          "output_type": "stream",
          "text": [
            "sample1= [1, 4, 3, 3, 4, 4]\n",
            "sample2= [4, 4, 1, 4]\n"
          ],
          "name": "stdout"
        }
      ]
    },
    {
      "cell_type": "markdown",
      "metadata": {
        "id": "q9D684MkTv1I",
        "colab_type": "text"
      },
      "source": [
        "### Things to note and think about\n",
        "* Each time you run the previous cell, you get a different estimate\n",
        "* The accuracy of the estimate is determined by the size of the sample $n*p$\n",
        "* See how the error changes as you vary $p$\n",
        "* Can you give a formula that relates the variance of the estimate to $(p*n)$ ? (The answer is in the Probability and statistics course)."
      ]
    },
    {
      "cell_type": "markdown",
      "metadata": {
        "id": "Mvwn_X2VTv1J",
        "colab_type": "text"
      },
      "source": [
        "### filtering an RDD\n",
        "The method `RDD.filter(func)` Return a new dataset formed by selecting those elements of the source on which func returns true.\n"
      ]
    },
    {
      "cell_type": "code",
      "metadata": {
        "id": "6CpwMTIMTv1K",
        "colab_type": "code",
        "outputId": "9c8625ed-7307-462a-f75c-6dca547cf6fa",
        "colab": {
          "base_uri": "https://localhost:8080/",
          "height": 34
        }
      },
      "source": [
        "print('the number of elements in B that are > 3 =',B.filter(lambda n: n > 3).count())"
      ],
      "execution_count": 18,
      "outputs": [
        {
          "output_type": "stream",
          "text": [
            "the number of elements in B that are > 3 = 250000\n"
          ],
          "name": "stdout"
        }
      ]
    },
    {
      "cell_type": "markdown",
      "metadata": {
        "id": "5FC75bAsTv1M",
        "colab_type": "text"
      },
      "source": [
        "### Removing duplicate elements from an RDD\n",
        "The method `RDD.distinct()` Returns a new dataset that contains the distinct elements of the source dataset.\n",
        "\n",
        "This operation requires a **shuffle** in order to detect duplication across partitions."
      ]
    },
    {
      "cell_type": "code",
      "metadata": {
        "id": "dCaWiEqETv1N",
        "colab_type": "code",
        "outputId": "bf8ad875-618a-43dc-cb01-93f66ce4aa4b",
        "colab": {
          "base_uri": "https://localhost:8080/",
          "height": 51
        }
      },
      "source": [
        "# Remove duplicate element in DuplicateRDD, we get distinct RDD\n",
        "DuplicateRDD = sc.parallelize([1,1,2,2,3,3])\n",
        "print('DuplicateRDD=',DuplicateRDD.collect())\n",
        "print('DistinctRDD = ',DuplicateRDD.distinct().collect())"
      ],
      "execution_count": 19,
      "outputs": [
        {
          "output_type": "stream",
          "text": [
            "DuplicateRDD= [1, 1, 2, 2, 3, 3]\n",
            "DistinctRDD =  [2, 1, 3]\n"
          ],
          "name": "stdout"
        }
      ]
    },
    {
      "cell_type": "markdown",
      "metadata": {
        "id": "36gCWXTyTv1P",
        "colab_type": "text"
      },
      "source": [
        "### flatmap an RDD\n",
        "The method `RDD.flatMap(func)` is similar to map, but each input item can be mapped to 0 or more output items (so func should return a Seq rather than a single item)."
      ]
    },
    {
      "cell_type": "code",
      "metadata": {
        "id": "F-4wMn1_Tv1Q",
        "colab_type": "code",
        "outputId": "ed614d5b-5943-4789-8354-fa1b6729094d",
        "colab": {
          "base_uri": "https://localhost:8080/",
          "height": 51
        }
      },
      "source": [
        "text=[\"you are my sunshine\",\"my only sunshine\"]\n",
        "text_file = sc.parallelize(text)\n",
        "# map each line in text to a list of words\n",
        "print('map:',text_file.map(lambda line: line.split(\" \")).collect())\n",
        "# create a single list of words by combining the words from all of the lines\n",
        "print('flatmap:',text_file.flatMap(lambda line: line.split(\" \")).collect())"
      ],
      "execution_count": 0,
      "outputs": [
        {
          "output_type": "stream",
          "text": [
            "map: [['you', 'are', 'my', 'sunshine'], ['my', 'only', 'sunshine']]\n",
            "flatmap: ['you', 'are', 'my', 'sunshine', 'my', 'only', 'sunshine']\n"
          ],
          "name": "stdout"
        }
      ]
    },
    {
      "cell_type": "markdown",
      "metadata": {
        "id": "YT1I1wHvTv1T",
        "colab_type": "text"
      },
      "source": [
        "### Set operations\n",
        "In this part, we explore set operations including **union**,**intersection**,**subtract**, **cartesian** in pyspark"
      ]
    },
    {
      "cell_type": "code",
      "metadata": {
        "id": "poXy25laTv1T",
        "colab_type": "code",
        "colab": {}
      },
      "source": [
        "rdd1 = sc.parallelize([1, 1, 2, 3])\n",
        "rdd2 = sc.parallelize([1, 3, 4, 5])"
      ],
      "execution_count": 0,
      "outputs": []
    },
    {
      "cell_type": "markdown",
      "metadata": {
        "id": "_WP7QeK8Tv1W",
        "colab_type": "text"
      },
      "source": [
        "1. union(other)\n",
        " * Return the union of this RDD and another one.\n",
        " * Note that that repetitions are allowed. The RDDs are **bags** not **sets**\n",
        " * To make the result a set, use `.distinct`"
      ]
    },
    {
      "cell_type": "code",
      "metadata": {
        "id": "Fy868WW_Tv1W",
        "colab_type": "code",
        "outputId": "10a16459-d572-4d32-f8c9-368869b0602a",
        "colab": {
          "base_uri": "https://localhost:8080/",
          "height": 85
        }
      },
      "source": [
        "rdd2=sc.parallelize(['a','b',1])\n",
        "print('rdd1=',rdd1.collect())\n",
        "print('rdd2=',rdd2.collect())\n",
        "print('union as bags =',rdd1.union(rdd2).collect())\n",
        "print('union as sets =',rdd1.union(rdd2).distinct().collect())"
      ],
      "execution_count": 22,
      "outputs": [
        {
          "output_type": "stream",
          "text": [
            "rdd1= [1, 1, 2, 3]\n",
            "rdd2= ['a', 'b', 1]\n",
            "union as bags = [1, 1, 2, 3, 'a', 'b', 1]\n",
            "union as sets = ['b', 1, 'a', 2, 3]\n"
          ],
          "name": "stdout"
        }
      ]
    },
    {
      "cell_type": "markdown",
      "metadata": {
        "id": "EeJBZcsATv1Z",
        "colab_type": "text"
      },
      "source": [
        "2. intersection(other)\n",
        " * Return the intersection of this RDD and another one. The output will not contain any duplicate elements, even if the input RDDs did.Note that this method performs a shuffle internally."
      ]
    },
    {
      "cell_type": "code",
      "metadata": {
        "id": "b114FE_pTv1Z",
        "colab_type": "code",
        "outputId": "5e7c6da0-c123-4514-9761-b19008487045",
        "colab": {
          "base_uri": "https://localhost:8080/",
          "height": 68
        }
      },
      "source": [
        "rdd2=sc.parallelize([1,1,2,5])\n",
        "print('rdd1=',rdd1.collect())\n",
        "print('rdd2=',rdd2.collect())\n",
        "print('intersection=',rdd1.intersection(rdd2).collect())"
      ],
      "execution_count": 23,
      "outputs": [
        {
          "output_type": "stream",
          "text": [
            "rdd1= [1, 1, 2, 3]\n",
            "rdd2= [1, 1, 2, 5]\n",
            "intersection= [1, 2]\n"
          ],
          "name": "stdout"
        }
      ]
    },
    {
      "cell_type": "markdown",
      "metadata": {
        "id": "4gTW_7rgTv1c",
        "colab_type": "text"
      },
      "source": [
        "3. subtract(other, numPartitions=None)\n",
        " * Return each value in self that is not contained in other."
      ]
    },
    {
      "cell_type": "code",
      "metadata": {
        "id": "4a2VOQlMTv1c",
        "colab_type": "code",
        "outputId": "96da38a6-cda2-4510-b248-5553f81d7335",
        "colab": {
          "base_uri": "https://localhost:8080/",
          "height": 68
        }
      },
      "source": [
        "print('rdd1=',rdd1.collect())\n",
        "print('rdd2=',rdd2.collect())\n",
        "print('rdd1.subtract(rdd2)=',rdd1.subtract(rdd2).collect())"
      ],
      "execution_count": 24,
      "outputs": [
        {
          "output_type": "stream",
          "text": [
            "rdd1= [1, 1, 2, 3]\n",
            "rdd2= [1, 1, 2, 5]\n",
            "rdd1.subtract(rdd2)= [3]\n"
          ],
          "name": "stdout"
        }
      ]
    },
    {
      "cell_type": "markdown",
      "metadata": {
        "id": "UswmM_-FTv1e",
        "colab_type": "text"
      },
      "source": [
        "4. cartesian(other)\n",
        " * Return the Cartesian product of this RDD and another one, that is, the RDD of all pairs of elements (a, b) where **a** is in **self** and **b** is in **other**."
      ]
    },
    {
      "cell_type": "code",
      "metadata": {
        "id": "yQWRJ5sjTv1f",
        "colab_type": "code",
        "outputId": "623aa78d-9ab0-4e53-fbc8-8497e4390ce7",
        "colab": {
          "base_uri": "https://localhost:8080/",
          "height": 85
        }
      },
      "source": [
        "rdd2=sc.parallelize([1,1,2])\n",
        "rdd2=sc.parallelize(['a','b'])\n",
        "print('rdd1=',rdd1.collect())\n",
        "print('rdd2=',rdd2.collect())\n",
        "print('rdd1.cartesian(rdd2)=\\n',rdd1.cartesian(rdd2).collect())"
      ],
      "execution_count": 25,
      "outputs": [
        {
          "output_type": "stream",
          "text": [
            "rdd1= [1, 1, 2, 3]\n",
            "rdd2= ['a', 'b']\n",
            "rdd1.cartesian(rdd2)=\n",
            " [(1, 'a'), (1, 'a'), (1, 'b'), (1, 'b'), (2, 'a'), (3, 'a'), (2, 'b'), (3, 'b')]\n"
          ],
          "name": "stdout"
        }
      ]
    },
    {
      "cell_type": "markdown",
      "metadata": {
        "collapsed": true,
        "id": "q09imSMYTv1h",
        "colab_type": "text"
      },
      "source": [
        "## Summary\n",
        "* Chaining: creating a pipeline of RDD operations.\n",
        "* counting, taking and sampling an RDD\n",
        "* More Transformations: `filter, distinct, flatmap`\n",
        "* Set transformations: `union, intersection, subtract, cartesian`"
      ]
    },
    {
      "cell_type": "markdown",
      "metadata": {
        "id": "pUKcyT39Tv1i",
        "colab_type": "text"
      },
      "source": [
        "* See you next time!"
      ]
    }
  ]
}