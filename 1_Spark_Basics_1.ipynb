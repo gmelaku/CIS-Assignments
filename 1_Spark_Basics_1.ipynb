{
  "nbformat": 4,
  "nbformat_minor": 0,
  "metadata": {
    "anaconda-cloud": {},
    "celltoolbar": "Slideshow",
    "hide_input": false,
    "kernelspec": {
      "display_name": "Python 3",
      "language": "python",
      "name": "python3"
    },
    "language_info": {
      "codemirror_mode": {
        "name": "ipython",
        "version": 3
      },
      "file_extension": ".py",
      "mimetype": "text/x-python",
      "name": "python",
      "nbconvert_exporter": "python",
      "pygments_lexer": "ipython3",
      "version": "3.6.3"
    },
    "toc": {
      "colors": {
        "hover_highlight": "#DAA520",
        "running_highlight": "#FF0000",
        "selected_highlight": "#FFD700"
      },
      "moveMenuLeft": true,
      "nav_menu": {
        "height": "512px",
        "width": "252px"
      },
      "navigate_menu": true,
      "number_sections": true,
      "sideBar": true,
      "threshold": 4,
      "toc_cell": false,
      "toc_section_display": "block",
      "toc_window_display": false
    },
    "colab": {
      "name": "1. Spark Basics 1.ipynb",
      "provenance": [],
      "include_colab_link": true
    }
  },
  "cells": [
    {
      "cell_type": "markdown",
      "metadata": {
        "id": "view-in-github",
        "colab_type": "text"
      },
      "source": [
        "<a href=\"https://colab.research.google.com/github/gmelaku/CIS-Assignments/blob/master/1_Spark_Basics_1.ipynb\" target=\"_parent\"><img src=\"https://colab.research.google.com/assets/colab-badge.svg\" alt=\"Open In Colab\"/></a>"
      ]
    },
    {
      "cell_type": "markdown",
      "metadata": {
        "id": "Xj0j7BlhTeeb",
        "colab_type": "text"
      },
      "source": [
        "# Spark Basics 1\n",
        "\n",
        "This notebook introduces two fundamental objects in Spark:"
      ]
    },
    {
      "cell_type": "markdown",
      "metadata": {
        "id": "8VncfuYVTeed",
        "colab_type": "text"
      },
      "source": [
        "* The Spark Context"
      ]
    },
    {
      "cell_type": "markdown",
      "metadata": {
        "run_control": {
          "frozen": false,
          "read_only": false
        },
        "id": "IYLrdU8QTeee",
        "colab_type": "text"
      },
      "source": [
        "* The Resilient Distributed DataSet or RDD"
      ]
    },
    {
      "cell_type": "markdown",
      "metadata": {
        "run_control": {
          "frozen": false,
          "read_only": false
        },
        "id": "dlpC15TMTeef",
        "colab_type": "text"
      },
      "source": [
        "## Spark Context\n",
        "We start by creating a **SparkContext** object named **sc**. In this case we create a spark context that uses 4 *executors* (one per core)"
      ]
    },
    {
      "cell_type": "code",
      "metadata": {
        "id": "nXG7FFSBNQcY",
        "colab_type": "code",
        "colab": {}
      },
      "source": [
        "!apt-get install openjdk-8-jdk-headless -qq > /dev/null\n",
        "!wget -q https://www-us.apache.org/dist/spark/spark-2.4.5/spark-2.4.5-bin-hadoop2.7.tgz\n",
        "\n",
        "# !tar -xvf /content/spark-2.4.5-bin-hadoop2.7.tgz\n",
        "!tar -xvf  spark-2.4.5-bin-hadoop2.7.tgz\n",
        "!pip install -q findspark\n",
        "\n",
        "import os\n",
        "os.environ[\"JAVA_HOME\"] = \"/usr/lib/jvm/java-8-openjdk-amd64\"\n",
        "os.environ[\"SPARK_HOME\"] = \"/content/spark-2.4.5-bin-hadoop2.7\"\n",
        "\n",
        "import findspark\n",
        "findspark.init()\n",
        "\n",
        "# Create a blank SparkContext\n",
        "from pyspark import SparkContext\n",
        "sc = SparkContext()"
      ],
      "execution_count": 0,
      "outputs": []
    },
    {
      "cell_type": "markdown",
      "metadata": {
        "run_control": {
          "frozen": false,
          "read_only": false
        },
        "id": "KyKUJIfVTeej",
        "colab_type": "text"
      },
      "source": [
        "### Only one sparkContext at a time!\n",
        "* Spark is designed for single user\n",
        "* Only one sparkContext per program/notebook.\n",
        "* Before starting a new sparkContext. Stop the one currently running"
      ]
    },
    {
      "cell_type": "code",
      "metadata": {
        "run_control": {
          "frozen": false,
          "read_only": false
        },
        "id": "eHrZaznVTeek",
        "colab_type": "code",
        "colab": {}
      },
      "source": [
        "# sc.stop() #commented out so that you don't stop your context by mistake"
      ],
      "execution_count": 0,
      "outputs": []
    },
    {
      "cell_type": "markdown",
      "metadata": {
        "run_control": {
          "frozen": false,
          "read_only": false
        },
        "id": "FsS4BconTeen",
        "colab_type": "text"
      },
      "source": [
        "## RDDs\n",
        "\n",
        "<p>RDD (or Resilient Distributed DataSet) is the main novel data structure in Spark. You can think of it as a list whose elements are stored on several computers.</p>\n",
        "\n",
        "<p><img alt=\"\" src=\"Figures/SparkContextAndRDD.jpg\" style=\"height:324px; width:900px\" /></p>\n"
      ]
    },
    {
      "cell_type": "markdown",
      "metadata": {
        "run_control": {
          "frozen": false,
          "read_only": false
        },
        "id": "V0-4DLdzTeeo",
        "colab_type": "text"
      },
      "source": [
        "The elements of each `RDD` are distributed across the **worker nodes** which are the nodes that perform the actual computations. This notebook, however, is running on the **Driver node**. As the RDD is not stored on the driver-node you cannot access it directly. The variable name `RDD` is really just a pointer to a python object which holds the information regardnig the actual location of the elements."
      ]
    },
    {
      "cell_type": "markdown",
      "metadata": {
        "run_control": {
          "frozen": false,
          "read_only": false
        },
        "id": "QDoufFr0Teep",
        "colab_type": "text"
      },
      "source": [
        "## Some basic RDD commands"
      ]
    },
    {
      "cell_type": "markdown",
      "metadata": {
        "run_control": {
          "frozen": false,
          "read_only": false
        },
        "id": "R4LCp8FJTeeq",
        "colab_type": "text"
      },
      "source": [
        "### Parallelize \n",
        "* Simplest way to create an RDD.\n",
        "* The method `A=sc.parallelize(L)`, creates an RDD named `A` from list `L`.\n",
        "* `A` is an RDD of type `PythonRDD`."
      ]
    },
    {
      "cell_type": "code",
      "metadata": {
        "run_control": {
          "frozen": false,
          "read_only": false
        },
        "id": "_y5_UiAgTeer",
        "colab_type": "code",
        "outputId": "51773e00-5312-4195-c6c2-152c5d6b13b5",
        "colab": {
          "base_uri": "https://localhost:8080/",
          "height": 34
        }
      },
      "source": [
        "A=sc.parallelize(range(3))\n",
        "A.collect()"
      ],
      "execution_count": 4,
      "outputs": [
        {
          "output_type": "execute_result",
          "data": {
            "text/plain": [
              "[0, 1, 2]"
            ]
          },
          "metadata": {
            "tags": []
          },
          "execution_count": 4
        }
      ]
    },
    {
      "cell_type": "code",
      "metadata": {
        "id": "c33ehJbOPBFO",
        "colab_type": "code",
        "colab": {
          "base_uri": "https://localhost:8080/",
          "height": 34
        },
        "outputId": "546da071-2e94-4240-a859-7d6a9090bfe9"
      },
      "source": [
        "A"
      ],
      "execution_count": 5,
      "outputs": [
        {
          "output_type": "execute_result",
          "data": {
            "text/plain": [
              "PythonRDD[3] at collect at <ipython-input-4-b2e9f003eab2>:2"
            ]
          },
          "metadata": {
            "tags": []
          },
          "execution_count": 5
        }
      ]
    },
    {
      "cell_type": "code",
      "metadata": {
        "id": "TFF4qOIwPDRI",
        "colab_type": "code",
        "colab": {
          "base_uri": "https://localhost:8080/",
          "height": 34
        },
        "outputId": "40306472-38a0-4fd4-9154-7ee2c4d32d7f"
      },
      "source": [
        "print(A)"
      ],
      "execution_count": 6,
      "outputs": [
        {
          "output_type": "stream",
          "text": [
            "PythonRDD[3] at collect at <ipython-input-4-b2e9f003eab2>:2\n"
          ],
          "name": "stdout"
        }
      ]
    },
    {
      "cell_type": "code",
      "metadata": {
        "id": "CXRTHXGAPIbm",
        "colab_type": "code",
        "colab": {
          "base_uri": "https://localhost:8080/",
          "height": 34
        },
        "outputId": "533e9609-6fe8-49c6-9a78-bc6531193c5b"
      },
      "source": [
        "print(type(A))"
      ],
      "execution_count": 7,
      "outputs": [
        {
          "output_type": "stream",
          "text": [
            "<class 'pyspark.rdd.PipelinedRDD'>\n"
          ],
          "name": "stdout"
        }
      ]
    },
    {
      "cell_type": "markdown",
      "metadata": {
        "run_control": {
          "frozen": false,
          "read_only": false
        },
        "id": "JPGDjPdbTeeu",
        "colab_type": "text"
      },
      "source": [
        "### Collect\n",
        "\n",
        "* RDD content is distributed among all executors.\n",
        "* `collect()` is the inverse of `parallelize()'\n",
        "* collects the elements of the RDD\n",
        "* Returns a list\n"
      ]
    },
    {
      "cell_type": "code",
      "metadata": {
        "run_control": {
          "frozen": false,
          "read_only": false
        },
        "id": "XuXmGD9OTeev",
        "colab_type": "code",
        "outputId": "1b91fadc-8021-48b5-c20b-8a174e190264",
        "colab": {
          "base_uri": "https://localhost:8080/",
          "height": 51
        }
      },
      "source": [
        "L=A.collect()\n",
        "print(type(L))\n",
        "print(L)"
      ],
      "execution_count": 9,
      "outputs": [
        {
          "output_type": "stream",
          "text": [
            "<class 'list'>\n",
            "[0, 1, 2]\n"
          ],
          "name": "stdout"
        }
      ]
    },
    {
      "cell_type": "markdown",
      "metadata": {
        "run_control": {
          "frozen": false,
          "read_only": false
        },
        "id": "ddc0xtloTeez",
        "colab_type": "text"
      },
      "source": [
        "#### Using `.collect()` eliminates the benefits of parallelism\n",
        "It is often tempting to `.collect()` and RDD, make it into a list, and then process the list using standard python. However, note that this means that you are using only the head node to perform the computation which means that you are not getting any benefit from spark.\n",
        "\n",
        "Using RDD operations, as described below, **will** make use of all of the computers at your disposal."
      ]
    },
    {
      "cell_type": "markdown",
      "metadata": {
        "run_control": {
          "frozen": false,
          "read_only": false
        },
        "id": "KPHARhE5Tee0",
        "colab_type": "text"
      },
      "source": [
        "### Map\n",
        "* applies a given operation to each element of an RDD\n",
        "* parameter is the function defining the operation.\n",
        "* returns a new RDD.\n",
        "* Operation performed in parallel on all executors.\n",
        "* Each executor operates on the data **local** to it."
      ]
    },
    {
      "cell_type": "code",
      "metadata": {
        "run_control": {
          "frozen": false,
          "read_only": false
        },
        "id": "3wLvr_miTee1",
        "colab_type": "code",
        "outputId": "5d2cd104-c763-4700-a683-d3b1f4f288b6",
        "colab": {
          "base_uri": "https://localhost:8080/",
          "height": 34
        }
      },
      "source": [
        "A.map(lambda x: x*x).collect()"
      ],
      "execution_count": 10,
      "outputs": [
        {
          "output_type": "execute_result",
          "data": {
            "text/plain": [
              "[0, 1, 4]"
            ]
          },
          "metadata": {
            "tags": []
          },
          "execution_count": 10
        }
      ]
    },
    {
      "cell_type": "markdown",
      "metadata": {
        "run_control": {
          "frozen": false,
          "read_only": false
        },
        "id": "aK2ehLBmTee4",
        "colab_type": "text"
      },
      "source": [
        "**Note:** Here we are using **lambda** functions, later we will see that regular functions can also be used.\n",
        "\n",
        "For more on lambda function see [here](http://www.secnetix.de/olli/Python/lambda_functions.hawk)"
      ]
    },
    {
      "cell_type": "markdown",
      "metadata": {
        "run_control": {
          "frozen": false,
          "read_only": false
        },
        "id": "r_Pr2pYRTee4",
        "colab_type": "text"
      },
      "source": [
        "### Reduce\n",
        "\n",
        "* Takes RDD as input, returns a single value.\n",
        "* **Reduce operator** takes **two** elements as input returns **one** as output.\n",
        "* Repeatedly applies a **reduce operator**\n",
        "* Each executor reduces the data local to it.\n",
        "* The results from all executors are combined."
      ]
    },
    {
      "cell_type": "markdown",
      "metadata": {
        "run_control": {
          "frozen": false,
          "read_only": false
        },
        "id": "R6e5Z4QMTee5",
        "colab_type": "text"
      },
      "source": [
        "The simplest example of a 2-to-1 operation is the sum:"
      ]
    },
    {
      "cell_type": "code",
      "metadata": {
        "run_control": {
          "frozen": false,
          "read_only": false
        },
        "id": "7g8ls6ULTee6",
        "colab_type": "code",
        "outputId": "6feae437-9bfb-45d9-e8c4-889716927deb",
        "colab": {
          "base_uri": "https://localhost:8080/",
          "height": 34
        }
      },
      "source": [
        "A.reduce(lambda x,y:x+y)"
      ],
      "execution_count": 11,
      "outputs": [
        {
          "output_type": "execute_result",
          "data": {
            "text/plain": [
              "3"
            ]
          },
          "metadata": {
            "tags": []
          },
          "execution_count": 11
        }
      ]
    },
    {
      "cell_type": "markdown",
      "metadata": {
        "run_control": {
          "frozen": false,
          "read_only": false
        },
        "id": "6NTTOCq0Tee9",
        "colab_type": "text"
      },
      "source": [
        "Here is an example of a reduce operation that finds the shortest string in an RDD of strings."
      ]
    },
    {
      "cell_type": "code",
      "metadata": {
        "run_control": {
          "frozen": false,
          "read_only": false
        },
        "id": "gWKv-RARTee9",
        "colab_type": "code",
        "outputId": "df013955-de18-4f12-e83e-8919c136ddd6",
        "colab": {
          "base_uri": "https://localhost:8080/",
          "height": 34
        }
      },
      "source": [
        "words=['this','is','the','best','mac','ever']\n",
        "wordRDD=sc.parallelize(words)\n",
        "wordRDD.collect()"
      ],
      "execution_count": 13,
      "outputs": [
        {
          "output_type": "execute_result",
          "data": {
            "text/plain": [
              "['this', 'is', 'the', 'best', 'mac', 'ever']"
            ]
          },
          "metadata": {
            "tags": []
          },
          "execution_count": 13
        }
      ]
    },
    {
      "cell_type": "code",
      "metadata": {
        "id": "bgzQPs8qRBqW",
        "colab_type": "code",
        "colab": {
          "base_uri": "https://localhost:8080/",
          "height": 34
        },
        "outputId": "8f664572-0a3b-479e-ca45-c219dad48364"
      },
      "source": [
        "wordRDD.reduce(lambda w,v: w if len(w)<len(v) else v)"
      ],
      "execution_count": 14,
      "outputs": [
        {
          "output_type": "execute_result",
          "data": {
            "text/plain": [
              "'is'"
            ]
          },
          "metadata": {
            "tags": []
          },
          "execution_count": 14
        }
      ]
    },
    {
      "cell_type": "code",
      "metadata": {
        "id": "owzmkjx-RUyV",
        "colab_type": "code",
        "colab": {
          "base_uri": "https://localhost:8080/",
          "height": 34
        },
        "outputId": "828f0ece-4661-4f65-937e-f63fc17a1009"
      },
      "source": [
        "wordRDD.reduce(lambda w,v: w if len(w)>len(v) else v)"
      ],
      "execution_count": 15,
      "outputs": [
        {
          "output_type": "execute_result",
          "data": {
            "text/plain": [
              "'ever'"
            ]
          },
          "metadata": {
            "tags": []
          },
          "execution_count": 15
        }
      ]
    },
    {
      "cell_type": "markdown",
      "metadata": {
        "run_control": {
          "frozen": false,
          "read_only": false
        },
        "id": "uM1rCbF7TefA",
        "colab_type": "text"
      },
      "source": [
        "## Properties of reduce operations\n",
        "\n",
        "* Reduce operations **must not depend on the order**\n",
        "  * Order of operands should not matter\n",
        "  * Order of application of reduce operator should not matter\n",
        "\n",
        "* Multiplication and summation are good:\n",
        "\n",
        "```\n",
        "                1 + 3 + 5 + 2                      5 + 3 + 1 + 2 \n",
        "```"
      ]
    },
    {
      "cell_type": "markdown",
      "metadata": {
        "run_control": {
          "frozen": false,
          "read_only": false
        },
        "id": "pcyYIu2pTefB",
        "colab_type": "text"
      },
      "source": [
        " * Division and subtraction are bad:\n",
        "\n",
        "```\n",
        "                    1 - 3 - 5 - 2                      1 - 3 - 5 - 2\n",
        "```"
      ]
    },
    {
      "cell_type": "markdown",
      "metadata": {
        "run_control": {
          "frozen": false,
          "read_only": false
        },
        "id": "t_kzWfyFTefC",
        "colab_type": "text"
      },
      "source": [
        "### Why must reordering not change the result?\n",
        "\n",
        "You can think about the reduce operation as a binary tree where the leaves are the elements of the list and the root is the final result. Each triplet of the form (parent, child1, child2) corresponds to a single application of the reduce function. \n",
        "\n",
        "The order in which the reduce operation is applied is **determined at run time** and depends on how the RDD is partitioned across the cluster.\n",
        "There are many different orders to apply the reduce operation. \n",
        "\n",
        "If we want the input RDD to uniquely determine the reduced value **all evaluation orders must must yield the same final result**. In addition, the order of the elements in the list must not change the result. In particular, reversing the order of the operands in a reduce function must not change the outcome. \n",
        "\n",
        "For example the arithmetic operations multiply `*` and add `+` can be used in a reduce, but the operations subtract `-` and divide `/` should not.\n",
        "\n",
        "Doing so will not raise an error, but the result is unpredictable."
      ]
    },
    {
      "cell_type": "code",
      "metadata": {
        "run_control": {
          "frozen": false,
          "read_only": false
        },
        "id": "_JprRCqETefC",
        "colab_type": "code",
        "outputId": "ef69985f-d9f1-4bc3-aabc-22b30d0e52dc",
        "colab": {
          "base_uri": "https://localhost:8080/",
          "height": 34
        }
      },
      "source": [
        "B=sc.parallelize([1,3,5,2])\n",
        "B.reduce(lambda x,y: x-y)"
      ],
      "execution_count": 17,
      "outputs": [
        {
          "output_type": "execute_result",
          "data": {
            "text/plain": [
              "-5"
            ]
          },
          "metadata": {
            "tags": []
          },
          "execution_count": 17
        }
      ]
    },
    {
      "cell_type": "markdown",
      "metadata": {
        "run_control": {
          "frozen": false,
          "read_only": false
        },
        "id": "t7E60HfXTefF",
        "colab_type": "text"
      },
      "source": [
        "Which of these the following orders was executed?\n",
        "* $$((1-3)-5)-2$$ or\n",
        "* $$(1-3)-(5-2)$$"
      ]
    },
    {
      "cell_type": "markdown",
      "metadata": {
        "run_control": {
          "frozen": false,
          "read_only": false
        },
        "id": "OAu_C6UpTefF",
        "colab_type": "text"
      },
      "source": [
        "### Using regular functions instead of lambda functions\n",
        "\n",
        "* lambda function are short and sweet.\n",
        "* but sometimes it's hard to use just one line.\n",
        "* We can use full-fledged functions instead."
      ]
    },
    {
      "cell_type": "code",
      "metadata": {
        "run_control": {
          "frozen": false,
          "read_only": false
        },
        "id": "D6OaQ_OYTefG",
        "colab_type": "code",
        "outputId": "1a149d42-fc22-4418-8a4b-e856579e92b3",
        "colab": {
          "base_uri": "https://localhost:8080/",
          "height": 34
        }
      },
      "source": [
        "A.reduce(lambda x,y: x+y)"
      ],
      "execution_count": 18,
      "outputs": [
        {
          "output_type": "execute_result",
          "data": {
            "text/plain": [
              "3"
            ]
          },
          "metadata": {
            "tags": []
          },
          "execution_count": 18
        }
      ]
    },
    {
      "cell_type": "markdown",
      "metadata": {
        "run_control": {
          "frozen": false,
          "read_only": false
        },
        "id": "lR-ncOdwTefJ",
        "colab_type": "text"
      },
      "source": [
        "Suppose we want to find the \n",
        "* last word in a lexicographical order \n",
        "* among \n",
        "* the longest words in the list.\n",
        "\n",
        "We could achieve that as follows"
      ]
    },
    {
      "cell_type": "code",
      "metadata": {
        "run_control": {
          "frozen": false,
          "read_only": false
        },
        "id": "QUnklJHMTefK",
        "colab_type": "code",
        "outputId": "9ae0afa7-1ce7-4c33-9a35-27cfff1d0384",
        "colab": {
          "base_uri": "https://localhost:8080/",
          "height": 34
        }
      },
      "source": [
        "def largerThan(x,y):\n",
        "    if len(x)>len(y): return x\n",
        "    elif len(y)>len(x): return y\n",
        "    else:  #lengths are equal, compare lexicographically\n",
        "        if x>y: \n",
        "            return x\n",
        "        else: \n",
        "            return y\n",
        "        \n",
        "wordRDD.reduce(largerThan)"
      ],
      "execution_count": 19,
      "outputs": [
        {
          "output_type": "execute_result",
          "data": {
            "text/plain": [
              "'this'"
            ]
          },
          "metadata": {
            "tags": []
          },
          "execution_count": 19
        }
      ]
    },
    {
      "cell_type": "markdown",
      "metadata": {
        "collapsed": true,
        "id": "cacDMxcFTefN",
        "colab_type": "text"
      },
      "source": [
        "## Summary\n",
        "\n",
        "We saw how to:\n",
        "* Start a SparkContext\n",
        "* Create an RDD\n",
        "* Perform Map and Reduce operations on an RDD\n",
        "* Collect the final results back to head node."
      ]
    }
  ]
}